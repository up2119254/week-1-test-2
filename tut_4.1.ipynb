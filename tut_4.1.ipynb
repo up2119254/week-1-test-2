{
 "cells": [
  {
   "cell_type": "code",
   "execution_count": 10,
   "metadata": {},
   "outputs": [
    {
     "name": "stdout",
     "output_type": "stream",
     "text": [
      "1057 is not a prime number.\n"
     ]
    }
   ],
   "source": [
    "num = int(input(\"Please enter a number: \")) # user defined number \n",
    "flag = False\n",
    "\n",
    "if num == 0 or num == 1: # if number is 0 or 1, it is not a prime number\n",
    "    print(num, \"is not a prime number.\")\n",
    "elif num > 1: # if number is greater than 1, it runs the necessary checks to calculate if it is prime or not\n",
    "    for i in range(2, num):\n",
    "        if (num % i) == 0:\n",
    "            flag = True\n",
    "            break # break out of loop\n",
    "\n",
    "    \n",
    "    if flag: # checks flag is true and prints appropriate message\n",
    "        print(num, \"is not a prime number.\")\n",
    "    else:\n",
    "        print(num, \"is a prime number.\")"
   ]
  }
 ],
 "metadata": {
  "kernelspec": {
   "display_name": "Python 3",
   "language": "python",
   "name": "python3"
  },
  "language_info": {
   "codemirror_mode": {
    "name": "ipython",
    "version": 3
   },
   "file_extension": ".py",
   "mimetype": "text/x-python",
   "name": "python",
   "nbconvert_exporter": "python",
   "pygments_lexer": "ipython3",
   "version": "3.12.1"
  }
 },
 "nbformat": 4,
 "nbformat_minor": 2
}
